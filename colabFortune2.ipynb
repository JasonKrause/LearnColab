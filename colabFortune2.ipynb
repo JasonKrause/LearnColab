{
  "nbformat": 4,
  "nbformat_minor": 0,
  "metadata": {
    "colab": {
      "name": "colabFortune2.ipynb",
      "provenance": [],
      "authorship_tag": "ABX9TyMmnv2NlSjH0gtujEf7TqIU",
      "include_colab_link": true
    },
    "kernelspec": {
      "name": "python3",
      "display_name": "Python 3"
    },
    "widgets": {
      "application/vnd.jupyter.widget-state+json": {
        "d818ba3afad043029a596bc73b4a0c6d": {
          "model_module": "@jupyter-widgets/controls",
          "model_name": "VBoxModel",
          "state": {
            "_view_name": "VBoxView",
            "_dom_classes": [
              "widget-interact"
            ],
            "_model_name": "VBoxModel",
            "_view_module": "@jupyter-widgets/controls",
            "_model_module_version": "1.5.0",
            "_view_count": null,
            "_view_module_version": "1.5.0",
            "box_style": "",
            "layout": "IPY_MODEL_dd344492b0f7407bab334869c2f40878",
            "_model_module": "@jupyter-widgets/controls",
            "children": [
              "IPY_MODEL_a33cc158921f4b90865059b0341f4595",
              "IPY_MODEL_cba434e4431745f68bf2b538777e23e9",
              "IPY_MODEL_d42fb556136645fcabd65bcd91d4d05a"
            ]
          }
        },
        "dd344492b0f7407bab334869c2f40878": {
          "model_module": "@jupyter-widgets/base",
          "model_name": "LayoutModel",
          "state": {
            "_view_name": "LayoutView",
            "grid_template_rows": null,
            "right": null,
            "justify_content": null,
            "_view_module": "@jupyter-widgets/base",
            "overflow": null,
            "_model_module_version": "1.2.0",
            "_view_count": null,
            "flex_flow": null,
            "width": null,
            "min_width": null,
            "border": null,
            "align_items": null,
            "bottom": null,
            "_model_module": "@jupyter-widgets/base",
            "top": null,
            "grid_column": null,
            "overflow_y": null,
            "overflow_x": null,
            "grid_auto_flow": null,
            "grid_area": null,
            "grid_template_columns": null,
            "flex": null,
            "_model_name": "LayoutModel",
            "justify_items": null,
            "grid_row": null,
            "max_height": null,
            "align_content": null,
            "visibility": null,
            "align_self": null,
            "height": null,
            "min_height": null,
            "padding": null,
            "grid_auto_rows": null,
            "grid_gap": null,
            "max_width": null,
            "order": null,
            "_view_module_version": "1.2.0",
            "grid_template_areas": null,
            "object_position": null,
            "object_fit": null,
            "grid_auto_columns": null,
            "margin": null,
            "display": null,
            "left": null
          }
        },
        "a33cc158921f4b90865059b0341f4595": {
          "model_module": "@jupyter-widgets/controls",
          "model_name": "DropdownModel",
          "state": {
            "_options_labels": [
              "year"
            ],
            "_view_name": "DropdownView",
            "style": "IPY_MODEL_7dc4966b1f9e4059b04f8fc515fa8bc0",
            "_dom_classes": [],
            "description": "column",
            "_model_name": "DropdownModel",
            "index": 0,
            "_view_module": "@jupyter-widgets/controls",
            "_model_module_version": "1.5.0",
            "_view_count": null,
            "disabled": false,
            "_view_module_version": "1.5.0",
            "description_tooltip": null,
            "_model_module": "@jupyter-widgets/controls",
            "layout": "IPY_MODEL_48e20e8eec6e4679a053d4530d224981"
          }
        },
        "cba434e4431745f68bf2b538777e23e9": {
          "model_module": "@jupyter-widgets/controls",
          "model_name": "IntSliderModel",
          "state": {
            "_view_name": "IntSliderView",
            "style": "IPY_MODEL_6c1b893ee9cb47419d87a0053a21a62d",
            "_dom_classes": [],
            "description": "x",
            "step": 5,
            "_model_name": "IntSliderModel",
            "orientation": "horizontal",
            "max": 2005,
            "_view_module": "@jupyter-widgets/controls",
            "_model_module_version": "1.5.0",
            "value": 1985,
            "_view_count": null,
            "disabled": false,
            "_view_module_version": "1.5.0",
            "min": 1955,
            "continuous_update": false,
            "readout_format": "d",
            "description_tooltip": null,
            "readout": true,
            "_model_module": "@jupyter-widgets/controls",
            "layout": "IPY_MODEL_2cfbbf2234884db0b404b51f9f28b7ad"
          }
        },
        "d42fb556136645fcabd65bcd91d4d05a": {
          "model_module": "@jupyter-widgets/output",
          "model_name": "OutputModel",
          "state": {
            "_view_name": "OutputView",
            "msg_id": "",
            "_dom_classes": [],
            "_model_name": "OutputModel",
            "outputs": [
              {
                "output_type": "display_data",
                "metadata": {
                  "tags": []
                },
                "image/png": "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\n",
                "text/plain": "<Figure size 432x288 with 1 Axes>"
              }
            ],
            "_view_module": "@jupyter-widgets/output",
            "_model_module_version": "1.0.0",
            "_view_count": null,
            "_view_module_version": "1.0.0",
            "layout": "IPY_MODEL_b14a4784170c4d16a0420aad49c7d5a9",
            "_model_module": "@jupyter-widgets/output"
          }
        },
        "7dc4966b1f9e4059b04f8fc515fa8bc0": {
          "model_module": "@jupyter-widgets/controls",
          "model_name": "DescriptionStyleModel",
          "state": {
            "_view_name": "StyleView",
            "_model_name": "DescriptionStyleModel",
            "description_width": "",
            "_view_module": "@jupyter-widgets/base",
            "_model_module_version": "1.5.0",
            "_view_count": null,
            "_view_module_version": "1.2.0",
            "_model_module": "@jupyter-widgets/controls"
          }
        },
        "48e20e8eec6e4679a053d4530d224981": {
          "model_module": "@jupyter-widgets/base",
          "model_name": "LayoutModel",
          "state": {
            "_view_name": "LayoutView",
            "grid_template_rows": null,
            "right": null,
            "justify_content": null,
            "_view_module": "@jupyter-widgets/base",
            "overflow": null,
            "_model_module_version": "1.2.0",
            "_view_count": null,
            "flex_flow": null,
            "width": null,
            "min_width": null,
            "border": null,
            "align_items": null,
            "bottom": null,
            "_model_module": "@jupyter-widgets/base",
            "top": null,
            "grid_column": null,
            "overflow_y": null,
            "overflow_x": null,
            "grid_auto_flow": null,
            "grid_area": null,
            "grid_template_columns": null,
            "flex": null,
            "_model_name": "LayoutModel",
            "justify_items": null,
            "grid_row": null,
            "max_height": null,
            "align_content": null,
            "visibility": null,
            "align_self": null,
            "height": null,
            "min_height": null,
            "padding": null,
            "grid_auto_rows": null,
            "grid_gap": null,
            "max_width": null,
            "order": null,
            "_view_module_version": "1.2.0",
            "grid_template_areas": null,
            "object_position": null,
            "object_fit": null,
            "grid_auto_columns": null,
            "margin": null,
            "display": null,
            "left": null
          }
        },
        "6c1b893ee9cb47419d87a0053a21a62d": {
          "model_module": "@jupyter-widgets/controls",
          "model_name": "SliderStyleModel",
          "state": {
            "_view_name": "StyleView",
            "handle_color": null,
            "_model_name": "SliderStyleModel",
            "description_width": "",
            "_view_module": "@jupyter-widgets/base",
            "_model_module_version": "1.5.0",
            "_view_count": null,
            "_view_module_version": "1.2.0",
            "_model_module": "@jupyter-widgets/controls"
          }
        },
        "2cfbbf2234884db0b404b51f9f28b7ad": {
          "model_module": "@jupyter-widgets/base",
          "model_name": "LayoutModel",
          "state": {
            "_view_name": "LayoutView",
            "grid_template_rows": null,
            "right": null,
            "justify_content": null,
            "_view_module": "@jupyter-widgets/base",
            "overflow": null,
            "_model_module_version": "1.2.0",
            "_view_count": null,
            "flex_flow": null,
            "width": null,
            "min_width": null,
            "border": null,
            "align_items": null,
            "bottom": null,
            "_model_module": "@jupyter-widgets/base",
            "top": null,
            "grid_column": null,
            "overflow_y": null,
            "overflow_x": null,
            "grid_auto_flow": null,
            "grid_area": null,
            "grid_template_columns": null,
            "flex": null,
            "_model_name": "LayoutModel",
            "justify_items": null,
            "grid_row": null,
            "max_height": null,
            "align_content": null,
            "visibility": null,
            "align_self": null,
            "height": null,
            "min_height": null,
            "padding": null,
            "grid_auto_rows": null,
            "grid_gap": null,
            "max_width": null,
            "order": null,
            "_view_module_version": "1.2.0",
            "grid_template_areas": null,
            "object_position": null,
            "object_fit": null,
            "grid_auto_columns": null,
            "margin": null,
            "display": null,
            "left": null
          }
        },
        "b14a4784170c4d16a0420aad49c7d5a9": {
          "model_module": "@jupyter-widgets/base",
          "model_name": "LayoutModel",
          "state": {
            "_view_name": "LayoutView",
            "grid_template_rows": null,
            "right": null,
            "justify_content": null,
            "_view_module": "@jupyter-widgets/base",
            "overflow": null,
            "_model_module_version": "1.2.0",
            "_view_count": null,
            "flex_flow": null,
            "width": null,
            "min_width": null,
            "border": null,
            "align_items": null,
            "bottom": null,
            "_model_module": "@jupyter-widgets/base",
            "top": null,
            "grid_column": null,
            "overflow_y": null,
            "overflow_x": null,
            "grid_auto_flow": null,
            "grid_area": null,
            "grid_template_columns": null,
            "flex": null,
            "_model_name": "LayoutModel",
            "justify_items": null,
            "grid_row": null,
            "max_height": null,
            "align_content": null,
            "visibility": null,
            "align_self": null,
            "height": null,
            "min_height": null,
            "padding": null,
            "grid_auto_rows": null,
            "grid_gap": null,
            "max_width": null,
            "order": null,
            "_view_module_version": "1.2.0",
            "grid_template_areas": null,
            "object_position": null,
            "object_fit": null,
            "grid_auto_columns": null,
            "margin": null,
            "display": null,
            "left": null
          }
        }
      }
    }
  },
  "cells": [
    {
      "cell_type": "markdown",
      "metadata": {
        "id": "view-in-github",
        "colab_type": "text"
      },
      "source": [
        "<a href=\"https://colab.research.google.com/github/JasonKrause/LearnColab/blob/main/colabFortune2.ipynb\" target=\"_parent\"><img src=\"https://colab.research.google.com/assets/colab-badge.svg\" alt=\"Open In Colab\"/></a>"
      ]
    },
    {
      "cell_type": "code",
      "metadata": {
        "id": "t02LCkwBG72b"
      },
      "source": [
        "%matplotlib inline\r\n",
        "import ipywidgets as widgets\r\n",
        "from ipywidgets import interact, interact_manual\r\n",
        "\r\n",
        "import pandas as pd\r\n",
        "import matplotlib.pyplot as plt\r\n",
        "import seaborn as sns \r\n",
        "sns.set(style=\"darkgrid\")\r\n",
        "def plot(x, y, ax, title, y_label):\r\n",
        "    ax.set_title(title)\r\n",
        "    ax.set_ylabel(y_label)\r\n",
        "    ax.plot(x, y)\r\n",
        "    ax.margins(x=0, y=0)"
      ],
      "execution_count": 3,
      "outputs": []
    },
    {
      "cell_type": "code",
      "metadata": {
        "colab": {
          "base_uri": "https://localhost:8080/"
        },
        "id": "q3WONcWZKGd9",
        "outputId": "6b28df46-fb61-47c1-e2e0-8ed69864ceb3"
      },
      "source": [
        "from google.colab import drive\r\n",
        "drive.mount('/content/drive')"
      ],
      "execution_count": 1,
      "outputs": [
        {
          "output_type": "stream",
          "text": [
            "Mounted at /content/drive\n"
          ],
          "name": "stdout"
        }
      ]
    },
    {
      "cell_type": "code",
      "metadata": {
        "colab": {
          "base_uri": "https://localhost:8080/"
        },
        "id": "bJqp9x0_LgWW",
        "outputId": "5eb36d2f-44d8-4535-ca0e-ccf55e0931c8"
      },
      "source": [
        "import os\r\n",
        "\r\n",
        "for root, dirs, files in os.walk(\"/content/drive/MyDrive/data\"):\r\n",
        "    print(files)\r\n",
        "    #for fle in files:\r\n",
        "    #    print(file)"
      ],
      "execution_count": 19,
      "outputs": [
        {
          "output_type": "stream",
          "text": [
            "['fortune500.csv']\n"
          ],
          "name": "stdout"
        }
      ]
    },
    {
      "cell_type": "code",
      "metadata": {
        "colab": {
          "base_uri": "https://localhost:8080/",
          "height": 348,
          "referenced_widgets": [
            "d818ba3afad043029a596bc73b4a0c6d",
            "dd344492b0f7407bab334869c2f40878",
            "a33cc158921f4b90865059b0341f4595",
            "cba434e4431745f68bf2b538777e23e9",
            "d42fb556136645fcabd65bcd91d4d05a",
            "7dc4966b1f9e4059b04f8fc515fa8bc0",
            "48e20e8eec6e4679a053d4530d224981",
            "6c1b893ee9cb47419d87a0053a21a62d",
            "2cfbbf2234884db0b404b51f9f28b7ad",
            "b14a4784170c4d16a0420aad49c7d5a9"
          ]
        },
        "id": "C-hLceV_HtM6",
        "outputId": "13f426a6-f5e4-4f65-da5d-de581f555d6c"
      },
      "source": [
        "\r\n",
        "@interact\r\n",
        "def show_articles_more_than(column=['year'], x=widgets.IntSlider(min=1955, max=2005, step=5, value=1955, continuous_update=False)):\r\n",
        "    df = pd.read_csv('/content/drive/MyDrive/data/fortune500.csv')\r\n",
        "    df.columns = ['year', 'rank', 'company', 'revenue', 'profit']\r\n",
        "    non_numberic_profits = df.profit.str.contains('[^0-9.-]')\r\n",
        "    df = df.loc[~non_numberic_profits]\r\n",
        "    df.profit = df.profit.apply(pd.to_numeric)    \r\n",
        "    df = df.loc[df[column] >= x]\r\n",
        "    group_by_year = df.loc[:, ['year', 'revenue', 'profit']].groupby('year')\r\n",
        "    avgs = group_by_year.mean()\r\n",
        "    x = avgs.index\r\n",
        "    y1 = avgs.profit\r\n",
        "    fig, ax = plt.subplots()\r\n",
        "    return plot(x, y1, ax, 'Increase in mean Fortune 500 company profits from 1955 to 2005', 'Profit (millions)')"
      ],
      "execution_count": 20,
      "outputs": [
        {
          "output_type": "display_data",
          "data": {
            "application/vnd.jupyter.widget-view+json": {
              "model_id": "d818ba3afad043029a596bc73b4a0c6d",
              "version_minor": 0,
              "version_major": 2
            },
            "text/plain": [
              "interactive(children=(Dropdown(description='column', options=('year',), value='year'), IntSlider(value=1955, c…"
            ]
          },
          "metadata": {
            "tags": []
          }
        }
      ]
    }
  ]
}